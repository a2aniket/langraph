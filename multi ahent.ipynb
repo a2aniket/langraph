{
 "cells": [
  {
   "cell_type": "code",
   "execution_count": null,
   "id": "a9ddf103-6a26-42b4-9dba-1e6c0ac0126e",
   "metadata": {},
   "outputs": [],
   "source": []
  },
  {
   "cell_type": "code",
   "execution_count": 52,
   "id": "2443a8af-97db-4a99-a89d-c5b823d48ffa",
   "metadata": {},
   "outputs": [],
   "source": [
    "from typing import Annotated\n",
    "from langchain_core.tools import tool\n",
    "from PIL import Image\n",
    "import json\n",
    "\n",
    "@tool\n",
    "def entity_extractor():\n",
    "    \"The function extract entitys from the given document save save them into json format\"\n",
    "    with open('data.json', 'r') as file:\n",
    "        data = json.load(file)\n",
    "    return data\n",
    "@tool\n",
    "def clasfiy_document(data):\n",
    "    \"The function extract entitys from the given document save save them into json format\"\n",
    "    \n",
    "    return \"i have classifed data and save into data.json\"\n",
    "    \n",
    "    \n",
    "@tool\n",
    "def validate_document():\n",
    "    \"\"\"your a information validator export\"\"\"\n",
    "    with open('data.json', 'r') as file:\n",
    "        data = json.load(file)\n",
    "    return \"invalid if proof as user to upload rigth document\"\n",
    "\n",
    "@tool\n",
    "def user_input():\n",
    "    \"\"\"Ask user to upload proper document\"\"\"\n",
    "    doc=input(\"Document\")\n",
    "    return \"claim pass sucess\""
   ]
  },
  {
   "cell_type": "code",
   "execution_count": null,
   "id": "41ac10b2-8bc5-4b90-bf13-7df08fc34d00",
   "metadata": {},
   "outputs": [],
   "source": []
  },
  {
   "cell_type": "code",
   "execution_count": null,
   "id": "ed5c4118-a2f9-4d4d-b55f-a53acffb1736",
   "metadata": {},
   "outputs": [],
   "source": []
  },
  {
   "cell_type": "code",
   "execution_count": 82,
   "id": "59a0b2af-af2e-4a84-8b8e-8ca9dca561ab",
   "metadata": {},
   "outputs": [],
   "source": [
    "from typing import Literal\n",
    "from typing_extensions import TypedDict\n",
    "from langgraph.graph import MessagesState, END\n",
    "from langgraph.types import Command\n",
    "\n",
    "\n",
    "members = [\"extraction\", \"extraction\"]\n",
    "# Our team supervisor is an LLM node. It just picks the next agent to process\n",
    "# and decides when the work is completed\n",
    "options = members + [\"FINISH\"]\n",
    "\n",
    "system_prompt = (\n",
    "    \"You are a supervisor tasked with managing a conversation between the\"\n",
    "    f\" following workers: {members}. Given the following user request,\"\n",
    "    \" respond with the worker to act next. Each worker will perform a\"\n",
    "    \" Once the infromation is valid please respond and finish\"\n",
    "    \" respond with FINISH.\"\n",
    ")\n",
    "\n",
    "\n",
    "class Router(TypedDict):\n",
    "    \"\"\"Worker to route to next. If no workers needed, route to FINISH.\"\"\"\n",
    "\n",
    "    next: Literal[*options]\n",
    "\n",
    "\n",
    "from langchain_groq import ChatGroq\n",
    "from dotenv import load_dotenv\n",
    "import os\n",
    "load_dotenv()\n",
    "llm=ChatGroq(model_name=\"Gemma2-9b-It\")\n",
    "\n",
    "\n",
    "\n",
    "class State(MessagesState):\n",
    "    next: str\n",
    "\n",
    "\n",
    "def supervisor_node(state: State) -> Command[Literal[*members, \"__end__\"]]:\n",
    "    print(\"-----------------------------------------------------\")\n",
    "    print(f\"Supervisor received request: {state}\")\n",
    "    print(\"-----------------------------------------------------\")\n",
    "    messages = [\n",
    "        {\"role\": \"system\", \"content\": system_prompt},\n",
    "    ] + state[\"messages\"]\n",
    "    response = llm.with_structured_output(Router).invoke(messages)\n",
    "    goto = response[\"next\"]\n",
    "    if goto == \"FINISH\":\n",
    "        goto = END\n",
    "\n",
    "    return Command(goto=goto, update={\"next\": goto})"
   ]
  },
  {
   "cell_type": "code",
   "execution_count": 90,
   "id": "ead69d65-eac1-44d8-b765-7cbcf3968c88",
   "metadata": {},
   "outputs": [],
   "source": [
    "from langchain_core.messages import HumanMessage\n",
    "from langgraph.graph import StateGraph, START, END\n",
    "from langgraph.prebuilt import create_react_agent\n",
    "\n",
    "\n",
    "extraction_agent = create_react_agent(\n",
    "    llm, tools=[entity_extractor,clasfiy_document], prompt=\"your expert at extarcting entity and clasifying\"\n",
    ")\n",
    "\n",
    "\n",
    "def extraction_node(state: State) -> Command[Literal[\"supervisor\"]]:\n",
    "    result = extraction_agent.invoke(state)\n",
    "    return Command(\n",
    "        update={\n",
    "            \"messages\": [\n",
    "                HumanMessage(content=result[\"messages\"][-1].content, name=\"extraction\")\n",
    "            ]\n",
    "        },\n",
    "        goto=\"supervisor\",\n",
    "    )\n",
    "\n",
    "\n",
    "# NOTE: THIS PERFORMS ARBITRARY CODE EXECUTION, WHICH CAN BE UNSAFE WHEN NOT SANDBOXED\n",
    "validate_agent = create_react_agent(llm, tools=[validate_document,user_input])\n",
    "\n",
    "\n",
    "def validate_node(state: State) -> Command[Literal[\"supervisor\"]]:\n",
    "    result = validate_agent.invoke(state)\n",
    "    return Command(\n",
    "        update={\n",
    "            \"messages\": [\n",
    "                HumanMessage(content=result[\"messages\"][-1].content, name=\"validator\")\n",
    "            ]\n",
    "        },\n",
    "        goto=\"supervisor\",\n",
    "    )\n",
    "\n",
    "\n",
    "builder = StateGraph(State)\n",
    "builder.add_edge(START, \"supervisor\")\n",
    "builder.add_node(\"supervisor\", supervisor_node)\n",
    "builder.add_node(\"extraction\", extraction_node)\n",
    "builder.add_node(\"validator\", validate_node)\n",
    "builder.add_edge(\"extraction\", END)\n",
    "builder.add_edge(\"validator\", END)\n",
    "\n",
    "graph = builder.compile()"
   ]
  },
  {
   "cell_type": "code",
   "execution_count": 91,
   "id": "92438f58-c9ef-4826-b58d-8f04bb488450",
   "metadata": {},
   "outputs": [
    {
     "data": {
      "image/png": "[encoded data removed]",
      "text/plain": [
       "<IPython.core.display.Image object>"
      ]
     },
     "metadata": {},
     "output_type": "display_data"
    }
   ],
   "source": [
    "from IPython.display import display, Image\n",
    "\n",
    "display(Image(graph.get_graph().draw_mermaid_png()))"
   ]
  },
  {
   "cell_type": "code",
   "execution_count": 85,
   "id": "f57cb704-96e9-4288-baae-71128cd20435",
   "metadata": {},
   "outputs": [
    {
     "name": "stdout",
     "output_type": "stream",
     "text": [
      "-----------------------------------------------------\n",
      "Supervisor received request: {'messages': [HumanMessage(content='Just Valdiate   and check if Claim  in pass', additional_kwargs={}, response_metadata={}, id='6910814b-ea7c-43d7-b5d0-acada4cffe77')]}\n",
      "-----------------------------------------------------\n",
      "((), {'supervisor': {'next': 'validator'}})\n",
      "----\n",
      "(('validator:2154daab-bf06-729d-bdd5-5dd583c5f062',), {'agent': {'messages': [AIMessage(content='', additional_kwargs={'tool_calls': [{'id': 'call_z3q9', 'function': {'arguments': '{}', 'name': 'validate_document'}, 'type': 'function'}]}, response_metadata={'token_usage': {'completion_tokens': 74, 'prompt_tokens': 985, 'total_tokens': 1059, 'completion_time': 0.134545455, 'prompt_time': 0.03461539, 'queue_time': 0.237456725, 'total_time': 0.169160845}, 'model_name': 'Gemma2-9b-It', 'system_fingerprint': 'fp_10c08bf97d', 'finish_reason': 'tool_calls', 'logprobs': None}, id='run-ffef26be-2d7f-437b-9a83-79e0f67fc5b0-0', tool_calls=[{'name': 'validate_document', 'args': {}, 'id': 'call_z3q9', 'type': 'tool_call'}], usage_metadata={'input_tokens': 985, 'output_tokens': 74, 'total_tokens': 1059})]}})\n",
      "----\n",
      "(('validator:2154daab-bf06-729d-bdd5-5dd583c5f062',), {'tools': {'messages': [ToolMessage(content='claim pass sucess', name='validate_document', id='f8fc9921-435a-48e4-8147-2614933191bc', tool_call_id='call_z3q9')]}})\n",
      "----\n",
      "(('validator:2154daab-bf06-729d-bdd5-5dd583c5f062',), {'agent': {'messages': [AIMessage(content='', additional_kwargs={'tool_calls': [{'id': 'call_8yxq', 'function': {'arguments': '{}', 'name': 'user_input'}, 'type': 'function'}]}, response_metadata={'token_usage': {'completion_tokens': 38, 'prompt_tokens': 1057, 'total_tokens': 1095, 'completion_time': 0.069090909, 'prompt_time': 0.045927378, 'queue_time': 0.23926050899999998, 'total_time': 0.115018287}, 'model_name': 'Gemma2-9b-It', 'system_fingerprint': 'fp_10c08bf97d', 'finish_reason': 'tool_calls', 'logprobs': None}, id='run-01424a68-8aba-4fb6-a2b1-658a5087fc62-0', tool_calls=[{'name': 'user_input', 'args': {}, 'id': 'call_8yxq', 'type': 'tool_call'}], usage_metadata={'input_tokens': 1057, 'output_tokens': 38, 'total_tokens': 1095})]}})\n",
      "----\n"
     ]
    },
    {
     "name": "stdin",
     "output_type": "stream",
     "text": [
      "Document dfg\n"
     ]
    },
    {
     "name": "stdout",
     "output_type": "stream",
     "text": [
      "(('validator:2154daab-bf06-729d-bdd5-5dd583c5f062',), {'tools': {'messages': [ToolMessage(content='claim pass sucess', name='user_input', id='5fa7402f-1648-47ab-ad22-83bd79310905', tool_call_id='call_8yxq')]}})\n",
      "----\n",
      "(('validator:2154daab-bf06-729d-bdd5-5dd583c5f062',), {'agent': {'messages': [AIMessage(content='Just Valdiate   and check if Claim  in pass \\n', additional_kwargs={}, response_metadata={'token_usage': {'completion_tokens': 16, 'prompt_tokens': 1127, 'total_tokens': 1143, 'completion_time': 0.029090909, 'prompt_time': 0.039659581, 'queue_time': 0.23447962700000002, 'total_time': 0.06875049}, 'model_name': 'Gemma2-9b-It', 'system_fingerprint': 'fp_10c08bf97d', 'finish_reason': 'stop', 'logprobs': None}, id='run-d5c2a238-bd39-41c3-8608-825a6f28e31e-0', usage_metadata={'input_tokens': 1127, 'output_tokens': 16, 'total_tokens': 1143})]}})\n",
      "----\n",
      "((), {'validator': {'messages': [HumanMessage(content='Just Valdiate   and check if Claim  in pass \\n', additional_kwargs={}, response_metadata={}, name='validator')]}})\n",
      "----\n",
      "-----------------------------------------------------\n",
      "Supervisor received request: {'messages': [HumanMessage(content='Just Valdiate   and check if Claim  in pass', additional_kwargs={}, response_metadata={}, id='6910814b-ea7c-43d7-b5d0-acada4cffe77'), HumanMessage(content='Just Valdiate   and check if Claim  in pass \\n', additional_kwargs={}, response_metadata={}, name='validator', id='6b560768-f778-4916-828e-be5b0354c3be')], 'next': 'validator'}\n",
      "-----------------------------------------------------\n",
      "((), {'supervisor': {'next': 'validator'}})\n",
      "----\n",
      "(('validator:3b8d8761-3e6b-c218-7849-7efbb376f4f0',), {'agent': {'messages': [AIMessage(content='', additional_kwargs={'tool_calls': [{'id': 'call_vt4k', 'function': {'arguments': '{}', 'name': 'validate_document'}, 'type': 'function'}]}, response_metadata={'token_usage': {'completion_tokens': 74, 'prompt_tokens': 1009, 'total_tokens': 1083, 'completion_time': 0.134545455, 'prompt_time': 0.035410609, 'queue_time': 0.23624415899999998, 'total_time': 0.169956064}, 'model_name': 'Gemma2-9b-It', 'system_fingerprint': 'fp_10c08bf97d', 'finish_reason': 'tool_calls', 'logprobs': None}, id='run-5282fffd-f337-4a1b-8f96-c3f953036d35-0', tool_calls=[{'name': 'validate_document', 'args': {}, 'id': 'call_vt4k', 'type': 'tool_call'}], usage_metadata={'input_tokens': 1009, 'output_tokens': 74, 'total_tokens': 1083})]}})\n",
      "----\n",
      "(('validator:3b8d8761-3e6b-c218-7849-7efbb376f4f0',), {'tools': {'messages': [ToolMessage(content='claim pass sucess', name='validate_document', id='376c8e96-be72-45b6-80b7-537fce023b1c', tool_call_id='call_vt4k')]}})\n",
      "----\n",
      "(('validator:3b8d8761-3e6b-c218-7849-7efbb376f4f0',), {'agent': {'messages': [AIMessage(content='The claim is valid and passes the validation. \\n', additional_kwargs={}, response_metadata={'token_usage': {'completion_tokens': 13, 'prompt_tokens': 1079, 'total_tokens': 1092, 'completion_time': 0.023636364, 'prompt_time': 0.037775464, 'queue_time': 0.24047628299999999, 'total_time': 0.061411828}, 'model_name': 'Gemma2-9b-It', 'system_fingerprint': 'fp_10c08bf97d', 'finish_reason': 'stop', 'logprobs': None}, id='run-f02232b1-b627-43ca-b7fb-33204bca2c09-0', usage_metadata={'input_tokens': 1079, 'output_tokens': 13, 'total_tokens': 1092})]}})\n",
      "----\n",
      "((), {'validator': {'messages': [HumanMessage(content='The claim is valid and passes the validation. \\n', additional_kwargs={}, response_metadata={}, name='validator')]}})\n",
      "----\n",
      "-----------------------------------------------------\n",
      "Supervisor received request: {'messages': [HumanMessage(content='Just Valdiate   and check if Claim  in pass', additional_kwargs={}, response_metadata={}, id='6910814b-ea7c-43d7-b5d0-acada4cffe77'), HumanMessage(content='Just Valdiate   and check if Claim  in pass \\n', additional_kwargs={}, response_metadata={}, name='validator', id='6b560768-f778-4916-828e-be5b0354c3be'), HumanMessage(content='The claim is valid and passes the validation. \\n', additional_kwargs={}, response_metadata={}, name='validator', id='a6823a35-6c7e-4e58-851a-4b87eba02dcd')], 'next': 'validator'}\n",
      "-----------------------------------------------------\n",
      "((), {'supervisor': {'next': '__end__'}})\n",
      "----\n"
     ]
    }
   ],
   "source": [
    "for s in graph.stream(\n",
    "    {\"messages\": [(\"user\", \"Just Valdiate   and check if Claim  in pass\")]}, subgraphs=True\n",
    "):\n",
    "    print(s)\n",
    "    print(\"----\")"
   ]
  },
  {
   "cell_type": "code",
   "execution_count": null,
   "id": "811d7812-c03c-45cf-a99e-983cb1145802",
   "metadata": {},
   "outputs": [],
   "source": []
  },
  {
   "cell_type": "code",
   "execution_count": 11,
   "id": "2824b181-0268-4858-a270-a39f663bc50f",
   "metadata": {},
   "outputs": [],
   "source": [
    "a=[45,5,63,35,65]\n",
    "l=[i for i in a if (i%5)==0]"
   ]
  },
  {
   "cell_type": "code",
   "execution_count": 12,
   "id": "86bb26e5-5578-474c-b6ff-a8e42041dcf1",
   "metadata": {},
   "outputs": [
    {
     "data": {
      "text/plain": [
       "[45, 5, 35, 65]"
      ]
     },
     "execution_count": 12,
     "metadata": {},
     "output_type": "execute_result"
    }
   ],
   "source": [
    "l"
   ]
  },
  {
   "cell_type": "code",
   "execution_count": 16,
   "id": "3817c39b-4019-429b-b374-2bdcd87e03d8",
   "metadata": {},
   "outputs": [
    {
     "data": {
      "text/plain": [
       "True"
      ]
     },
     "execution_count": 16,
     "metadata": {},
     "output_type": "execute_result"
    }
   ],
   "source": [
    "isinstance(22,int)"
   ]
  },
  {
   "cell_type": "code",
   "execution_count": null,
   "id": "003d4d8a-8f23-4551-8cf5-e5d968e67da7",
   "metadata": {},
   "outputs": [],
   "source": []
  }
 ],
 "metadata": {
  "kernelspec": {
   "display_name": "Python 3 (ipykernel)",
   "language": "python",
   "name": "python3"
  },
  "language_info": {
   "codemirror_mode": {
    "name": "ipython",
    "version": 3
   },
   "file_extension": ".py",
   "mimetype": "text/x-python",
   "name": "python",
   "nbconvert_exporter": "python",
   "pygments_lexer": "ipython3",
   "version": "3.12.7"
  }
 },
 "nbformat": 4,
 "nbformat_minor": 5
}
